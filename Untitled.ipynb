{
 "cells": [
  {
   "cell_type": "markdown",
   "id": "9bfc4384-b6ca-414d-9214-aa87711348da",
   "metadata": {},
   "source": [
    "# Arbeit 1"
   ]
  },
  {
   "cell_type": "markdown",
   "id": "c055e60e-6e3a-4298-a462-1c13e4df3e85",
   "metadata": {},
   "source": [
    "#### Import"
   ]
  },
  {
   "cell_type": "code",
   "execution_count": 1,
   "id": "73133d12-365d-4e44-a9f9-1807357b9fbb",
   "metadata": {},
   "outputs": [],
   "source": [
    "import numpy as np\n",
    "import pandas as pd\n",
    "import matplotlib.pyplot as plt\n",
    "import dm4bem\n"
   ]
  },
  {
   "cell_type": "code",
   "execution_count": 14,
   "id": "7e798e9d-cd9a-40d5-a7e2-684152fbaa79",
   "metadata": {},
   "outputs": [
    {
     "ename": "SyntaxError",
     "evalue": "invalid syntax (3161938749.py, line 2)",
     "output_type": "error",
     "traceback": [
      "\u001b[1;36m  File \u001b[1;32m\"C:\\Users\\morit\\AppData\\Local\\Temp\\ipykernel_51400\\3161938749.py\"\u001b[1;36m, line \u001b[1;32m2\u001b[0m\n\u001b[1;33m    > Figure 1.\u001b[0m\n\u001b[1;37m    ^\u001b[0m\n\u001b[1;31mSyntaxError\u001b[0m\u001b[1;31m:\u001b[0m invalid syntax\n"
     ]
    }
   ],
   "source": [
    "![test] (./figures/01_test.png)\n",
    "> Figure 1. "
   ]
  },
  {
   "cell_type": "markdown",
   "id": "df015026-a249-4f3e-ad72-34558df86cd7",
   "metadata": {},
   "source": [
    "#### Dimension"
   ]
  },
  {
   "cell_type": "code",
   "execution_count": null,
   "id": "241f15c3-f47f-4b45-aa45-5e2761a928f3",
   "metadata": {},
   "outputs": [],
   "source": [
    "#dimentions [m]\n",
    "l = 6       #length of garage\n",
    "breite = 3       #width of garage\n",
    "hight = 2.5     #hight of garage\n",
    "Sc = l * breite + 2 * l * hight + breite * hight\n",
    "Sdoor = breite * hight\n",
    "Sroof = l * breite\n",
    "Va = l * breite * hight"
   ]
  },
  {
   "cell_type": "markdown",
   "id": "032729d8-9bd6-4704-a66f-6ffbf3766af9",
   "metadata": {},
   "source": [
    "#### Air"
   ]
  },
  {
   "cell_type": "code",
   "execution_count": null,
   "id": "9ed5261f-b280-4659-94ec-5580c090ce18",
   "metadata": {},
   "outputs": [],
   "source": [
    "air = {'Density': 1.2,                      # kg/m³\n",
    "       'Specific heat': 1000}               # J/(kg·K)\n",
    "# pd.DataFrame.from_dict(air, orient='index', columns=['air'])\n",
    "pd.DataFrame(air, index=['Air'])"
   ]
  },
  {
   "cell_type": "markdown",
   "id": "5c360c53-2702-4852-9005-2b7428ce2efc",
   "metadata": {},
   "source": [
    "#### Wall"
   ]
  },
  {
   "cell_type": "code",
   "execution_count": null,
   "id": "735624a1-a37c-4bab-b492-2a7f649c3c1f",
   "metadata": {},
   "outputs": [],
   "source": [
    "wall = {'Conductivity': [1.4, 0.16, 0.16],  # W/(m·K)\n",
    "        'Density': [2300, 600, 600],        # kg/m³\n",
    "        'Specific heat': [880, 1760, 1760], # J/(kg·K)\n",
    "        'Width': [0.25, 0.05, 0.1],         # m\n",
    "        'Surface': [Sc, Sdoor, Sroof],      # m²\n",
    "        'Slices': [1, 1, 1]}                # number of  slices\n",
    "wall = pd.DataFrame(wall, index=['Concrete', 'Wood Door', 'Wood Roof'])\n",
    "wall"
   ]
  },
  {
   "cell_type": "code",
   "execution_count": null,
   "id": "4059e70f-c3c6-4a42-aecc-8817ca0382d1",
   "metadata": {},
   "outputs": [],
   "source": [
    "#ε_c = 0.85    # long wave emmisivity: concrete\n",
    "#ε_w = 0.95    # long wave emmisivity: wood\n",
    "α_c = 0.25    # short wave absortivity: concrete\n",
    "α_w = 0.4    # short wave absortivity: wood"
   ]
  },
  {
   "cell_type": "markdown",
   "id": "72f307ff-00c6-4e49-909f-0bc719d2711d",
   "metadata": {},
   "source": [
    "#### Bolzmann"
   ]
  },
  {
   "cell_type": "code",
   "execution_count": null,
   "id": "c3185baa-3a04-4458-ba1d-5b8190ea53e2",
   "metadata": {},
   "outputs": [],
   "source": [
    "σ = 5.67e-8     # W/(m²⋅K⁴) Stefan-Bolzmann constant"
   ]
  },
  {
   "cell_type": "markdown",
   "id": "44edbfad-6d36-4d08-b6ef-086ad2418796",
   "metadata": {},
   "source": [
    "#### Alpha"
   ]
  },
  {
   "cell_type": "code",
   "execution_count": null,
   "id": "6651fb3c-8221-4cd9-83b5-26f954f36f7f",
   "metadata": {},
   "outputs": [],
   "source": [
    "h = pd.DataFrame([{'in': 8., 'out': 25}], index=['h'])  # W/(m²⋅K)\n",
    "h"
   ]
  },
  {
   "cell_type": "markdown",
   "id": "1555096d-3471-43b7-844b-59f9fd388bfe",
   "metadata": {},
   "source": [
    "#### Conduction"
   ]
  },
  {
   "cell_type": "code",
   "execution_count": null,
   "id": "67842a2d-0c82-4a3e-8832-02da1595fad7",
   "metadata": {},
   "outputs": [],
   "source": [
    "# Conduction\n",
    "G_cd = wall['Conductivity'] / wall['Width'] * wall['Surface']\n",
    "pd.DataFrame(G_cd, columns={'Conductance'})"
   ]
  },
  {
   "cell_type": "markdown",
   "id": "25e31731-86ad-439c-81ed-182b1c51308e",
   "metadata": {},
   "source": [
    "#### Convection"
   ]
  },
  {
   "cell_type": "code",
   "execution_count": null,
   "id": "6d5e7041-c281-4b59-b453-1ee11be03145",
   "metadata": {},
   "outputs": [],
   "source": [
    "# Convection\n",
    "Gw = h * wall['Surface'][0]     # wall\n",
    "Gdoor = h * wall['Surface'][1]  # wood door\n",
    "Groof = h * wall['Surface'][2]  # wood roof"
   ]
  },
  {
   "cell_type": "code",
   "execution_count": null,
   "id": "24711e6a-b10e-46a9-b862-b2de1a5e9df0",
   "metadata": {},
   "outputs": [],
   "source": [
    "C = wall['Density'] * wall['Specific heat'] * wall['Surface'] * wall['Width']"
   ]
  },
  {
   "cell_type": "code",
   "execution_count": null,
   "id": "16bce1fc-4df2-46f2-a048-bd44e990e3c6",
   "metadata": {},
   "outputs": [],
   "source": [
    "C['Air'] = air['Density'] * air['Specific heat'] * Va\n",
    "pd.DataFrame(C, columns={'Capacity'})"
   ]
  },
  {
   "cell_type": "markdown",
   "id": "59c9d9c3-bd46-4e44-ba92-478eb22002ed",
   "metadata": {},
   "source": [
    "#### A-Matrix"
   ]
  },
  {
   "cell_type": "code",
   "execution_count": null,
   "id": "81510105-fc09-4261-a3de-535b67a4f27a",
   "metadata": {},
   "outputs": [],
   "source": [
    "A = np.zeros([12, 10])       # n° of branches X n° of nodes\n",
    "A[0, 0] = 1                 # branch 0: -> node 0\n",
    "A[1, 0], A[1, 1] = -1, 1    # branch 1: node 0 -> node 1\n",
    "A[2, 1], A[2, 2] = -1, 1    # branch 2: node 1 -> node 2\n",
    "A[3, 2], A[3, 9] = -1, 1    # branch 3: node 2 -> node 3\n",
    "A[4, 3] = 1                 \n",
    "A[5, 3], A[5, 4] = -1, 1    \n",
    "A[6, 4], A[6, 5] = -1, 1    \n",
    "A[7, 5], A[7, 9] = -1, 1    \n",
    "A[8, 6] = 1                 \n",
    "A[9, 6], A[9, 7] = -1, 1    \n",
    "A[10, 7], A[10, 8] = -1, 1    \n",
    "A[11, 8], A[11, 9] = -1, 1    \n",
    "np.set_printoptions(suppress=False)\n",
    "pd.DataFrame(A)"
   ]
  },
  {
   "cell_type": "markdown",
   "id": "414826aa-8ac8-412d-89a4-8c63d30cf018",
   "metadata": {},
   "source": [
    "#### G-Matrix"
   ]
  },
  {
   "cell_type": "code",
   "execution_count": null,
   "id": "4829b290-feac-435c-9534-196b7f629028",
   "metadata": {},
   "outputs": [],
   "source": [
    "G = np.diag([Groof.iloc[0]['out'], 2 * G_cd['Wood Roof'], 2 * G_cd['Wood Roof'],\n",
    "             Groof.iloc[0]['in'], Gdoor.iloc[0]['out'], 2 * G_cd['Wood Door'],\n",
    "             2 * G_cd['Wood Door'], Gdoor.iloc[0]['in'],Gw.iloc[0]['out'],\n",
    "             2 * G_cd['Concrete'], 2 * G_cd['Concrete'], Gw.iloc[0]['in']])\n",
    "np.set_printoptions(precision=3, threshold=16, suppress=True)\n",
    "pd.set_option(\"display.precision\", 1)\n",
    "pd.DataFrame(G)"
   ]
  },
  {
   "cell_type": "markdown",
   "id": "f3d4f6cd-8b12-452d-b4fa-a3ac92c91c3a",
   "metadata": {},
   "source": [
    "#### C-Matrix"
   ]
  },
  {
   "cell_type": "code",
   "execution_count": null,
   "id": "3078a83c-cebe-4fda-99ce-a0d7df059efe",
   "metadata": {},
   "outputs": [],
   "source": [
    "C = np.diag([0, C['Wood Roof'], 0, 0, C['Wood Door'], 0, 0,\n",
    "            C['Concrete'], 0, C['Air']])\n",
    "# Uncomment next line to put 'Air' and 'Glass' capacities to zero\n",
    "# C = np.diag([0, C['Wood Roof'], 0, 0, C['Wood Door'], 0, 0, C['Concrete'], 0, 0])\n",
    "pd.set_option(\"display.precision\", 3)\n",
    "pd.DataFrame(C)"
   ]
  },
  {
   "cell_type": "code",
   "execution_count": null,
   "id": "58be40fb-20fe-44b9-8162-0a244b99409d",
   "metadata": {},
   "outputs": [],
   "source": [
    "# C = np.zeros([10, 10])"
   ]
  },
  {
   "cell_type": "code",
   "execution_count": null,
   "id": "141221b9-32b9-41a6-9e54-eaebb007b1e3",
   "metadata": {},
   "outputs": [],
   "source": [
    "b = np.zeros(12)        # branches\n",
    "b[[0, 4, 8]] = 1   # branches with temperature sources\n",
    "#print(f'b = ', b)"
   ]
  },
  {
   "cell_type": "code",
   "execution_count": null,
   "id": "10057f51-dc65-499f-9041-36fcffc6294d",
   "metadata": {},
   "outputs": [],
   "source": [
    "f = np.zeros(10)        # nodes\n",
    "f[[0, 3, 6, 9]] = 1     # nodes with heat-flow sources\n",
    "#print(f'f = ', f)"
   ]
  },
  {
   "cell_type": "code",
   "execution_count": null,
   "id": "812d8095-2dd6-49c4-9c5f-b6b07c8a6460",
   "metadata": {},
   "outputs": [],
   "source": [
    "y = np.zeros(10)         # nodes\n",
    "y[[9]] = 1              # nodes (temperatures) of interest\n",
    "#print(f'y = ', y)"
   ]
  },
  {
   "cell_type": "code",
   "execution_count": null,
   "id": "07d98e60-8c91-4fcf-8f0e-93233bbcb40a",
   "metadata": {},
   "outputs": [],
   "source": [
    "'''state space representation'''\n",
    "[As, Bs, Cs, Ds] = dm4bem.tc2ss(A, G, b, C, f, y)\n",
    "print('As = \\n', As, '\\n')\n",
    "print('Bs = \\n', Bs, '\\n')\n",
    "print('Cs = \\n', Cs, '\\n')\n",
    "print('Ds = \\n', Ds, '\\n')"
   ]
  },
  {
   "cell_type": "code",
   "execution_count": null,
   "id": "0fbab262-d124-4477-aa16-31918ac1cd30",
   "metadata": {},
   "outputs": [],
   "source": [
    "'''steady state'''\n",
    "b = np.zeros(12)        # temperature sources\n",
    "b[[0, 4, 8]] = 10      # outdoor temperature\n",
    "#b[[11]] = 20            # indoor set-point temperature"
   ]
  },
  {
   "cell_type": "code",
   "execution_count": null,
   "id": "894c4d44-0163-4682-be5f-d2d373da2f64",
   "metadata": {},
   "outputs": [],
   "source": [
    "f = np.zeros(10)         # flow-rate sources"
   ]
  },
  {
   "cell_type": "code",
   "execution_count": null,
   "id": "c4377c12-5877-4b4f-880d-f03db6b3e880",
   "metadata": {},
   "outputs": [],
   "source": [
    "'''DAE'''"
   ]
  },
  {
   "cell_type": "code",
   "execution_count": null,
   "id": "0581fe19-7fd6-4139-b22e-1d9cc1c83e64",
   "metadata": {},
   "outputs": [],
   "source": [
    "θ = np.linalg.inv(A.T @ G @ A) @ (A.T @ G @ b + f)\n",
    "print(f'θ = {θ} °C')"
   ]
  },
  {
   "cell_type": "code",
   "execution_count": null,
   "id": "3e559287-39dc-41a3-8ad4-6b4925c07104",
   "metadata": {},
   "outputs": [],
   "source": [
    "'''state space'''"
   ]
  },
  {
   "cell_type": "code",
   "execution_count": null,
   "id": "b579baaa-3093-49a4-b29b-11ed65303f53",
   "metadata": {},
   "outputs": [],
   "source": [
    "bT = np.array([10, 10, 10])     # [To, To, To, Tisp]\n",
    "fQ = np.array([0, 0, 0, 0])         # [Φo, Φi, Qa, Φa]\n",
    "u = np.hstack([bT, fQ])\n",
    "print(f'u = {u}')"
   ]
  },
  {
   "cell_type": "code",
   "execution_count": null,
   "id": "78b75f57-16a1-42e2-b9e4-a3fd5691347e",
   "metadata": {},
   "outputs": [],
   "source": [
    "yss = (-Cs @ np.linalg.inv(As) @ Bs + Ds) @ u\n",
    "print(f'yss = {yss} °C')"
   ]
  },
  {
   "cell_type": "code",
   "execution_count": null,
   "id": "a2450c82-2e74-4a78-b819-482d1754e958",
   "metadata": {},
   "outputs": [],
   "source": [
    "print(f'Max error between DAE and state-space: \\\n",
    "{max(abs(θ[6] - yss)):.2e} °C')"
   ]
  },
  {
   "cell_type": "code",
   "execution_count": null,
   "id": "0d96c7fc-1659-43ad-8b2a-df267cc5a358",
   "metadata": {},
   "outputs": [],
   "source": [
    "'''Dynamic'''\n",
    "λ = np.linalg.eig(As)[0]    # eigenvalues of matrix As\n",
    "print('Time constants: \\n', -1 / λ, 's \\n')\n",
    "print('2 x Time constants: \\n', -2 / λ, 's \\n')\n",
    "dtmax = min(-2. / λ)\n",
    "print(f'Maximum time step: {dtmax:.2f} s = {dtmax / 60:.2f} min')"
   ]
  },
  {
   "cell_type": "code",
   "execution_count": null,
   "id": "99aa644a-dc9a-40a5-ac3b-b5fac12be7db",
   "metadata": {},
   "outputs": [],
   "source": [
    "dt = 4 * 60     # seconds\n",
    "print(f'dt = {dt} s = {dt / 60:.0f} min')"
   ]
  },
  {
   "cell_type": "code",
   "execution_count": null,
   "id": "a10c3cd0-b190-40a0-9830-a0bd297dea3c",
   "metadata": {},
   "outputs": [],
   "source": [
    "t_resp = 4 * max(-1 / λ)\n",
    "print('Time constants: \\n', -1 / λ, 's \\n')\n",
    "print(f'Settling time: {t_resp:.0f} s = {t_resp / 60:.1f} min \\\n",
    "= {t_resp / (3600):.2f} h = {t_resp / (3600 * 24):.2f} days')"
   ]
  },
  {
   "cell_type": "code",
   "execution_count": null,
   "id": "9d843471-bbb8-4e7b-8861-6a2af8bacc51",
   "metadata": {},
   "outputs": [],
   "source": [
    "duration = 3600 * 24 * 5            # seconds, larger than response time\n",
    "n = int(np.floor(duration / dt))    # number of time steps\n",
    "t = np.arange(0, n * dt, dt)        # time vector for n time steps"
   ]
  },
  {
   "cell_type": "code",
   "execution_count": null,
   "id": "19d101d1-6b08-46a9-8e44-da5b6c4faabc",
   "metadata": {},
   "outputs": [],
   "source": [
    "print(f'Duration = {duration} s')\n",
    "print(f'Number of time steps = {n}')\n",
    "pd.DataFrame(t, columns=['time'])"
   ]
  },
  {
   "cell_type": "code",
   "execution_count": null,
   "id": "0fb62edd-6b14-4c5a-b9f2-f4afc143085a",
   "metadata": {},
   "outputs": [],
   "source": [
    "u = np.zeros([7, n])                # u = [To To To Tisp Φo Φi Qa Φa]\n",
    "u[0:3, :] = 10 * np.ones([3, n])    # To = 10 for n time steps\n",
    "#u[3, :] = 20 * np.ones([1, n])      # Tisp = 20 for n time steps\n",
    "print('u = ')\n",
    "pd.DataFrame(u)\n"
   ]
  },
  {
   "cell_type": "code",
   "execution_count": null,
   "id": "cfb0e6d0-418a-4d3f-ad18-2dc27d6f6f63",
   "metadata": {},
   "outputs": [],
   "source": [
    "n_s = As.shape[0]                      # number of state variables\n",
    "θ_exp = np.zeros([n_s, t.shape[0]])    # explicit Euler in time t\n",
    "θ_imp = np.zeros([n_s, t.shape[0]])    # implicit Euler in time t"
   ]
  },
  {
   "cell_type": "code",
   "execution_count": null,
   "id": "772c3477-b668-44eb-9d30-11690e5a31ae",
   "metadata": {},
   "outputs": [],
   "source": [
    "I = np.eye(n_s)                        # identity matrix"
   ]
  },
  {
   "cell_type": "code",
   "execution_count": null,
   "id": "61dc0df6-756c-4097-bedb-83a9ac5bea71",
   "metadata": {},
   "outputs": [],
   "source": [
    "for k in range(n - 1):\n",
    "    θ_exp[:, k + 1] = (I + dt * As) @\\\n",
    "        θ_exp[:, k] + dt * Bs @ u[:, k]\n",
    "    θ_imp[:, k + 1] = np.linalg.inv(I - dt * As) @\\\n",
    "        (θ_imp[:, k] + dt * Bs @ u[:, k])\n",
    "        \n",
    "y_exp = Cs @ θ_exp + Ds @  u\n",
    "y_imp = Cs @ θ_imp + Ds @  u"
   ]
  },
  {
   "cell_type": "code",
   "execution_count": null,
   "id": "54f99bb3-1ddc-4511-b7e1-0af4d969062f",
   "metadata": {},
   "outputs": [],
   "source": [
    "fig, ax = plt.subplots()\n",
    "ax.plot(t / 3600, y_exp.T, t / 3600, y_imp.T)\n",
    "ax.set(xlabel='Time [h]',\n",
    "       ylabel='$T_i$ [°C]',\n",
    "       title='Step input: To')\n",
    "ax.legend(['Implicit', 'Explicit'])\n",
    "plt.show()"
   ]
  },
  {
   "cell_type": "code",
   "execution_count": null,
   "id": "0c3ade99-93ee-44dd-8184-85f24083d67b",
   "metadata": {},
   "outputs": [],
   "source": [
    "print('Steady-state indoor temperature obtained with:')\n",
    "print(f'- DAE model: {float(θ[9]):.4f} °C')\n",
    "print(f'- state-space model: {float(yss):.4f} °C')\n",
    "print(f'- steady-state response to step input: {float(y_exp[:, -2]):.4f} °C')"
   ]
  },
  {
   "cell_type": "code",
   "execution_count": null,
   "id": "43f09e4b-770f-47fd-9bee-48dd4e412197",
   "metadata": {},
   "outputs": [],
   "source": [
    "'''weather data'''"
   ]
  },
  {
   "cell_type": "code",
   "execution_count": null,
   "id": "8c6abe4a-ad30-497e-a8ad-0b5ec77b21a2",
   "metadata": {},
   "outputs": [],
   "source": [
    "start_date = '2000-01-03 12:00:00'\n",
    "end_date = '2000-02-05 18:00:00'"
   ]
  },
  {
   "cell_type": "code",
   "execution_count": null,
   "id": "d6d238ca-3348-4f79-881a-243b6857ad89",
   "metadata": {},
   "outputs": [],
   "source": [
    "print(f'{start_date} \\tstart date')\n",
    "print(f'{end_date} \\tend date')"
   ]
  },
  {
   "cell_type": "code",
   "execution_count": null,
   "id": "76086781-6eca-4a16-83db-90a78ea1bda4",
   "metadata": {},
   "outputs": [],
   "source": [
    "filename = './weather_data/DEU_Stuttgart.107380_IWEC.epw'\n",
    "[data, meta] = dm4bem.read_epw(filename, coerce_year=None)\n",
    "weather = data[[\"temp_air\", \"dir_n_rad\", \"dif_h_rad\"]]\n",
    "del data\n"
   ]
  },
  {
   "cell_type": "code",
   "execution_count": null,
   "id": "bae2ec4d-1686-4b18-882a-ba40587396c8",
   "metadata": {},
   "outputs": [],
   "source": [
    "weather.index = weather.index.map(lambda t: t.replace(year=2000))\n",
    "weather = weather[(\n",
    "    weather.index >= start_date) & (\n",
    "    weather.index < end_date)]"
   ]
  },
  {
   "cell_type": "code",
   "execution_count": null,
   "id": "8137ad68-d66c-41a7-af3d-41f64e7ec766",
   "metadata": {},
   "outputs": [],
   "source": [
    "pd.DataFrame(weather)"
   ]
  },
  {
   "cell_type": "code",
   "execution_count": null,
   "id": "f433238f-d422-4146-9fc8-c3f7324920d6",
   "metadata": {},
   "outputs": [],
   "source": [
    "#for the different sides of the building, different radiations could be calculated"
   ]
  },
  {
   "cell_type": "code",
   "execution_count": null,
   "id": "74717f9c-6553-47d0-a7ed-4f2cd640b44d",
   "metadata": {},
   "outputs": [],
   "source": [
    "surface_orientation = {'slope': 90,\n",
    "                       'azimuth': 0,\n",
    "                       'latitude': 45}\n",
    "albedo = 0.2\n",
    "rad_surf = dm4bem.sol_rad_tilt_surf(\n",
    "    weather, surface_orientation, albedo)\n",
    "pd.DataFrame(rad_surf)"
   ]
  },
  {
   "cell_type": "code",
   "execution_count": null,
   "id": "b08c4539-8741-4e3b-a715-ed1c618137af",
   "metadata": {},
   "outputs": [],
   "source": [
    "rad_surf['Etot'] = rad_surf.sum(axis=1)"
   ]
  },
  {
   "cell_type": "code",
   "execution_count": null,
   "id": "6a3151a3-e27b-4631-a985-f9772a3a03c1",
   "metadata": {},
   "outputs": [],
   "source": [
    "data = pd.concat([weather['temp_air'], rad_surf['Etot']], axis=1)\n",
    "data = data.resample(str(dt) + 'S').interpolate(method='linear')\n",
    "data = data.rename(columns={'temp_air': 'To'})\n",
    "pd.DataFrame(data)"
   ]
  },
  {
   "cell_type": "code",
   "execution_count": null,
   "id": "b6030b1e-0ea5-4a43-aa75-e77a17826dd7",
   "metadata": {},
   "outputs": [],
   "source": [
    "#data['Ti'] = 20 * np.ones(data.shape[0])\n",
    "data['Qa'] = 0 * np.ones(data.shape[0])\n",
    "pd.DataFrame(data)"
   ]
  },
  {
   "cell_type": "code",
   "execution_count": null,
   "id": "17ebbef1-ecf8-477c-866f-58377a2cff1f",
   "metadata": {},
   "outputs": [],
   "source": [
    "To = data['To']\n",
    "#Ti = data['Ti']\n",
    "Φo = α_c * wall['Surface']['Concrete'] * data['Etot']\n",
    "Φi = α_w * wall['Surface']['Wood Door'] * data['Etot']\n",
    "#Φi = τ_gSW * α_wSW * wall['Surface']['Glass'] * data['Etot']\n",
    "Qa = data['Qa']\n",
    "Φa = α_w * wall['Surface']['Wood Roof'] * data['Etot']"
   ]
  },
  {
   "cell_type": "code",
   "execution_count": null,
   "id": "9e4349fe-b643-4fe1-a040-5747f71dc614",
   "metadata": {},
   "outputs": [],
   "source": [
    "u = pd.concat([To, To, To, Φo, Φi, Qa, Φa], axis=1)\n",
    "u.columns.values[[3, 4, 6]] = ['Φo', 'Φi', 'Φa']\n",
    "pd.DataFrame(u)"
   ]
  },
  {
   "cell_type": "code",
   "execution_count": null,
   "id": "a41d7d99-4e67-4bfb-85e0-025e765fcf88",
   "metadata": {},
   "outputs": [],
   "source": [
    "θ_exp = 7.5 * np.ones([As.shape[0], u.shape[0]])    #7.5 as inital outside temp"
   ]
  },
  {
   "cell_type": "code",
   "execution_count": null,
   "id": "77918b6f-2aff-4034-b70c-851bb0a0b65d",
   "metadata": {},
   "outputs": [],
   "source": [
    "for k in range(u.shape[0] - 1):\n",
    "    θ_exp[:, k + 1] = (I + dt * As) @ θ_exp[:, k]\\\n",
    "        + dt * Bs @ u.iloc[k, :]\n",
    "        \n",
    "y_exp = Cs @ θ_exp + Ds @ u.to_numpy().T\n",
    "#q_HVAC = Kp * (data['Ti'] - y_exp[0, :])"
   ]
  },
  {
   "cell_type": "code",
   "execution_count": null,
   "id": "1202b96d-2495-403e-a62a-e0d041634199",
   "metadata": {},
   "outputs": [],
   "source": [
    "t = dt * np.arange(data.shape[0])   # time vector"
   ]
  },
  {
   "cell_type": "code",
   "execution_count": null,
   "id": "c38b1a14-a967-40ad-85f3-7b1a461a7381",
   "metadata": {},
   "outputs": [],
   "source": [
    "fig, axs = plt.subplots(2, 1)\n",
    "# plot indoor and outdoor temperature\n",
    "axs[0].plot(t / 3600 / 24, y_exp[0, :], label='$T_{indoor}$')\n",
    "axs[0].plot(t / 3600 / 24, data['To'], label='$T_{outdoor}$')\n",
    "axs[0].set(xlabel='Time [days]',\n",
    "           ylabel='Temperatures [°C]',\n",
    "           title='Simulation for weather')\n",
    "axs[0].legend(loc='upper right')\n",
    "#the inside temperatur is greatly based on dthe absorbtivity of the wood\n",
    "\n",
    "# plot total solar radiation and HVAC heat flow\n",
    "#axs[1].plot(t / 3600 / 24,  q_HVAC, label='$q_{HVAC}$')\n",
    "axs[1].plot(t / 3600 / 24, data['Etot'], label='$Φ_{total}$')\n",
    "axs[1].set(xlabel='Time [days]',\n",
    "           ylabel='Heat flows [W]')\n",
    "axs[1].legend(loc='upper right')\n",
    "\n",
    "fig.tight_layout()"
   ]
  },
  {
   "cell_type": "code",
   "execution_count": null,
   "id": "3f8a41fb-756c-4349-84b8-a39e0927fe71",
   "metadata": {},
   "outputs": [],
   "source": []
  },
  {
   "cell_type": "code",
   "execution_count": null,
   "id": "d81471ff-e4f5-4754-8a14-7db18c079a42",
   "metadata": {},
   "outputs": [],
   "source": []
  }
 ],
 "metadata": {
  "kernelspec": {
   "display_name": "Python 3 (ipykernel)",
   "language": "python",
   "name": "python3"
  },
  "language_info": {
   "codemirror_mode": {
    "name": "ipython",
    "version": 3
   },
   "file_extension": ".py",
   "mimetype": "text/x-python",
   "name": "python",
   "nbconvert_exporter": "python",
   "pygments_lexer": "ipython3",
   "version": "3.9.13"
  }
 },
 "nbformat": 4,
 "nbformat_minor": 5
}
